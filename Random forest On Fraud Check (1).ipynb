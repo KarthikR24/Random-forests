{
 "cells": [
  {
   "cell_type": "code",
   "execution_count": 117,
   "metadata": {
    "ExecuteTime": {
     "end_time": "2021-01-08T10:07:54.979871Z",
     "start_time": "2021-01-08T10:07:54.955871Z"
    }
   },
   "outputs": [],
   "source": [
    "import matplotlib.pyplot as plt\n",
    "import seaborn as sns\n",
    "import pandas as pd\n",
    "data = pd.read_csv(\"Fraud_check.csv\")\n"
   ]
  },
  {
   "cell_type": "code",
   "execution_count": 118,
   "metadata": {
    "ExecuteTime": {
     "end_time": "2021-01-08T10:07:55.615243Z",
     "start_time": "2021-01-08T10:07:55.600202Z"
    }
   },
   "outputs": [
    {
     "name": "stdout",
     "output_type": "stream",
     "text": [
      "Index(['Undergrad', 'Marital_Status', 'Taxable_Income', 'City_Population',\n",
      "       'Work_Experience', 'Urban'],\n",
      "      dtype='object')\n"
     ]
    },
    {
     "data": {
      "text/html": [
       "<div>\n",
       "<style scoped>\n",
       "    .dataframe tbody tr th:only-of-type {\n",
       "        vertical-align: middle;\n",
       "    }\n",
       "\n",
       "    .dataframe tbody tr th {\n",
       "        vertical-align: top;\n",
       "    }\n",
       "\n",
       "    .dataframe thead th {\n",
       "        text-align: right;\n",
       "    }\n",
       "</style>\n",
       "<table border=\"1\" class=\"dataframe\">\n",
       "  <thead>\n",
       "    <tr style=\"text-align: right;\">\n",
       "      <th></th>\n",
       "      <th>Undergrad</th>\n",
       "      <th>Marital_Status</th>\n",
       "      <th>Taxable_Income</th>\n",
       "      <th>City_Population</th>\n",
       "      <th>Work_Experience</th>\n",
       "      <th>Urban</th>\n",
       "    </tr>\n",
       "  </thead>\n",
       "  <tbody>\n",
       "    <tr>\n",
       "      <th>0</th>\n",
       "      <td>NO</td>\n",
       "      <td>Single</td>\n",
       "      <td>68833</td>\n",
       "      <td>50047</td>\n",
       "      <td>10</td>\n",
       "      <td>YES</td>\n",
       "    </tr>\n",
       "    <tr>\n",
       "      <th>1</th>\n",
       "      <td>YES</td>\n",
       "      <td>Divorced</td>\n",
       "      <td>33700</td>\n",
       "      <td>134075</td>\n",
       "      <td>18</td>\n",
       "      <td>YES</td>\n",
       "    </tr>\n",
       "    <tr>\n",
       "      <th>2</th>\n",
       "      <td>NO</td>\n",
       "      <td>Married</td>\n",
       "      <td>36925</td>\n",
       "      <td>160205</td>\n",
       "      <td>30</td>\n",
       "      <td>YES</td>\n",
       "    </tr>\n",
       "    <tr>\n",
       "      <th>3</th>\n",
       "      <td>YES</td>\n",
       "      <td>Single</td>\n",
       "      <td>50190</td>\n",
       "      <td>193264</td>\n",
       "      <td>15</td>\n",
       "      <td>YES</td>\n",
       "    </tr>\n",
       "    <tr>\n",
       "      <th>4</th>\n",
       "      <td>NO</td>\n",
       "      <td>Married</td>\n",
       "      <td>81002</td>\n",
       "      <td>27533</td>\n",
       "      <td>28</td>\n",
       "      <td>NO</td>\n",
       "    </tr>\n",
       "  </tbody>\n",
       "</table>\n",
       "</div>"
      ],
      "text/plain": [
       "  Undergrad Marital_Status  Taxable_Income  City_Population  Work_Experience  \\\n",
       "0        NO         Single           68833            50047               10   \n",
       "1       YES       Divorced           33700           134075               18   \n",
       "2        NO        Married           36925           160205               30   \n",
       "3       YES         Single           50190           193264               15   \n",
       "4        NO        Married           81002            27533               28   \n",
       "\n",
       "  Urban  \n",
       "0   YES  \n",
       "1   YES  \n",
       "2   YES  \n",
       "3   YES  \n",
       "4    NO  "
      ]
     },
     "execution_count": 118,
     "metadata": {},
     "output_type": "execute_result"
    }
   ],
   "source": [
    "# Start exploring the dataset\n",
    "print(data.columns)\n",
    "data.head()"
   ]
  },
  {
   "cell_type": "code",
   "execution_count": 120,
   "metadata": {
    "ExecuteTime": {
     "end_time": "2021-01-08T10:08:20.820528Z",
     "start_time": "2021-01-08T10:08:20.788494Z"
    }
   },
   "outputs": [
    {
     "name": "stdout",
     "output_type": "stream",
     "text": [
      "(6, 6)\n",
      "       Taxable_Income  City_Population  Work_Experience\n",
      "count        6.000000         6.000000         6.000000\n",
      "mean     58734.000000    109182.333333        11.000000\n",
      "std      22616.132516     61251.068920        10.392305\n",
      "min      38374.000000     28768.000000         2.000000\n",
      "25%      44187.250000     67362.500000         4.000000\n",
      "50%      50672.500000    110301.500000         7.000000\n",
      "75%      66609.250000    147857.750000        15.250000\n",
      "max      98738.000000    192297.000000        29.000000\n"
     ]
    }
   ],
   "source": [
    "# Print the shape of the data\n",
    "data = data.sample(frac=0.1, random_state = 48)\n",
    "print(data.shape)\n",
    "print(data.describe())\n",
    "\n",
    "# the results of a PCA Dimensionality reduction to protect user identities and sensitive features"
   ]
  },
  {
   "cell_type": "code",
   "execution_count": 88,
   "metadata": {
    "ExecuteTime": {
     "end_time": "2021-01-08T09:21:50.455126Z",
     "start_time": "2021-01-08T09:21:50.178485Z"
    }
   },
   "outputs": [
    {
     "data": {
      "text/plain": [
       "<AxesSubplot:>"
      ]
     },
     "execution_count": 88,
     "metadata": {},
     "output_type": "execute_result"
    },
    {
     "data": {
      "image/png": "[encoded data removed]",
      "text/plain": [
       "<Figure size 432x288 with 1 Axes>"
      ]
     },
     "metadata": {
      "needs_background": "light"
     },
     "output_type": "display_data"
    }
   ],
   "source": [
    "# distribution of Amount\n",
    "T_I = [data['Taxable_Income'].values]\n",
    "sns.distplot(T_I)"
   ]
  },
  {
   "cell_type": "code",
   "execution_count": 89,
   "metadata": {
    "ExecuteTime": {
     "end_time": "2021-01-08T09:21:51.393831Z",
     "start_time": "2021-01-08T09:21:51.121830Z"
    }
   },
   "outputs": [
    {
     "data": {
      "text/plain": [
       "<AxesSubplot:>"
      ]
     },
     "execution_count": 89,
     "metadata": {},
     "output_type": "execute_result"
    },
    {
     "data": {
      "image/png": "[encoded data removed]",
      "text/plain": [
       "<Figure size 432x288 with 1 Axes>"
      ]
     },
     "metadata": {
      "needs_background": "light"
     },
     "output_type": "display_data"
    }
   ],
   "source": [
    "C_P = [data['City_Population'].values]\n",
    "sns.distplot(C_P)"
   ]
  },
  {
   "cell_type": "code",
   "execution_count": 90,
   "metadata": {
    "ExecuteTime": {
     "end_time": "2021-01-08T09:21:52.127763Z",
     "start_time": "2021-01-08T09:21:51.897864Z"
    }
   },
   "outputs": [
    {
     "data": {
      "text/plain": [
       "<AxesSubplot:>"
      ]
     },
     "execution_count": 90,
     "metadata": {},
     "output_type": "execute_result"
    },
    {
     "data": {
      "image/png": "[encoded data removed]",
      "text/plain": [
       "<Figure size 432x288 with 1 Axes>"
      ]
     },
     "metadata": {
      "needs_background": "light"
     },
     "output_type": "display_data"
    }
   ],
   "source": [
    "W_E = [data['Work_Experience'].values]\n",
    "sns.distplot(W_E)"
   ]
  },
  {
   "cell_type": "code",
   "execution_count": 91,
   "metadata": {
    "ExecuteTime": {
     "end_time": "2021-01-08T09:21:52.654358Z",
     "start_time": "2021-01-08T09:21:52.639819Z"
    }
   },
   "outputs": [],
   "source": [
    "data.loc[data[\"Taxable_Income\"]>=30000,\"Income\"]=\"Good \"\n",
    "data.loc[data[\"Taxable_Income\"]<=30000,\"Income\"]=\"Risky\""
   ]
  },
  {
   "cell_type": "code",
   "execution_count": 92,
   "metadata": {
    "ExecuteTime": {
     "end_time": "2021-01-08T09:21:53.456781Z",
     "start_time": "2021-01-08T09:21:53.418682Z"
    }
   },
   "outputs": [
    {
     "data": {
      "text/html": [
       "<div>\n",
       "<style scoped>\n",
       "    .dataframe tbody tr th:only-of-type {\n",
       "        vertical-align: middle;\n",
       "    }\n",
       "\n",
       "    .dataframe tbody tr th {\n",
       "        vertical-align: top;\n",
       "    }\n",
       "\n",
       "    .dataframe thead th {\n",
       "        text-align: right;\n",
       "    }\n",
       "</style>\n",
       "<table border=\"1\" class=\"dataframe\">\n",
       "  <thead>\n",
       "    <tr style=\"text-align: right;\">\n",
       "      <th></th>\n",
       "      <th>Undergrad</th>\n",
       "      <th>Marital_Status</th>\n",
       "      <th>Taxable_Income</th>\n",
       "      <th>City_Population</th>\n",
       "      <th>Work_Experience</th>\n",
       "      <th>Urban</th>\n",
       "      <th>Income</th>\n",
       "    </tr>\n",
       "  </thead>\n",
       "  <tbody>\n",
       "    <tr>\n",
       "      <th>547</th>\n",
       "      <td>YES</td>\n",
       "      <td>Single</td>\n",
       "      <td>92819</td>\n",
       "      <td>42690</td>\n",
       "      <td>25</td>\n",
       "      <td>YES</td>\n",
       "      <td>Good</td>\n",
       "    </tr>\n",
       "    <tr>\n",
       "      <th>522</th>\n",
       "      <td>NO</td>\n",
       "      <td>Divorced</td>\n",
       "      <td>43980</td>\n",
       "      <td>103343</td>\n",
       "      <td>10</td>\n",
       "      <td>NO</td>\n",
       "      <td>Good</td>\n",
       "    </tr>\n",
       "    <tr>\n",
       "      <th>449</th>\n",
       "      <td>NO</td>\n",
       "      <td>Married</td>\n",
       "      <td>92007</td>\n",
       "      <td>27875</td>\n",
       "      <td>11</td>\n",
       "      <td>NO</td>\n",
       "      <td>Good</td>\n",
       "    </tr>\n",
       "    <tr>\n",
       "      <th>407</th>\n",
       "      <td>NO</td>\n",
       "      <td>Single</td>\n",
       "      <td>33138</td>\n",
       "      <td>52144</td>\n",
       "      <td>6</td>\n",
       "      <td>NO</td>\n",
       "      <td>Good</td>\n",
       "    </tr>\n",
       "    <tr>\n",
       "      <th>131</th>\n",
       "      <td>YES</td>\n",
       "      <td>Single</td>\n",
       "      <td>56501</td>\n",
       "      <td>174321</td>\n",
       "      <td>16</td>\n",
       "      <td>YES</td>\n",
       "      <td>Good</td>\n",
       "    </tr>\n",
       "    <tr>\n",
       "      <th>559</th>\n",
       "      <td>YES</td>\n",
       "      <td>Divorced</td>\n",
       "      <td>72026</td>\n",
       "      <td>180424</td>\n",
       "      <td>26</td>\n",
       "      <td>NO</td>\n",
       "      <td>Good</td>\n",
       "    </tr>\n",
       "    <tr>\n",
       "      <th>424</th>\n",
       "      <td>YES</td>\n",
       "      <td>Married</td>\n",
       "      <td>72268</td>\n",
       "      <td>94199</td>\n",
       "      <td>0</td>\n",
       "      <td>YES</td>\n",
       "      <td>Good</td>\n",
       "    </tr>\n",
       "    <tr>\n",
       "      <th>156</th>\n",
       "      <td>YES</td>\n",
       "      <td>Married</td>\n",
       "      <td>39114</td>\n",
       "      <td>125987</td>\n",
       "      <td>3</td>\n",
       "      <td>YES</td>\n",
       "      <td>Good</td>\n",
       "    </tr>\n",
       "    <tr>\n",
       "      <th>436</th>\n",
       "      <td>NO</td>\n",
       "      <td>Divorced</td>\n",
       "      <td>98738</td>\n",
       "      <td>158057</td>\n",
       "      <td>4</td>\n",
       "      <td>YES</td>\n",
       "      <td>Good</td>\n",
       "    </tr>\n",
       "    <tr>\n",
       "      <th>203</th>\n",
       "      <td>YES</td>\n",
       "      <td>Divorced</td>\n",
       "      <td>56536</td>\n",
       "      <td>117260</td>\n",
       "      <td>4</td>\n",
       "      <td>NO</td>\n",
       "      <td>Good</td>\n",
       "    </tr>\n",
       "    <tr>\n",
       "      <th>97</th>\n",
       "      <td>YES</td>\n",
       "      <td>Divorced</td>\n",
       "      <td>79583</td>\n",
       "      <td>37849</td>\n",
       "      <td>19</td>\n",
       "      <td>YES</td>\n",
       "      <td>Good</td>\n",
       "    </tr>\n",
       "    <tr>\n",
       "      <th>84</th>\n",
       "      <td>NO</td>\n",
       "      <td>Married</td>\n",
       "      <td>69098</td>\n",
       "      <td>178083</td>\n",
       "      <td>4</td>\n",
       "      <td>YES</td>\n",
       "      <td>Good</td>\n",
       "    </tr>\n",
       "    <tr>\n",
       "      <th>304</th>\n",
       "      <td>YES</td>\n",
       "      <td>Divorced</td>\n",
       "      <td>62141</td>\n",
       "      <td>106757</td>\n",
       "      <td>23</td>\n",
       "      <td>YES</td>\n",
       "      <td>Good</td>\n",
       "    </tr>\n",
       "    <tr>\n",
       "      <th>215</th>\n",
       "      <td>NO</td>\n",
       "      <td>Divorced</td>\n",
       "      <td>52891</td>\n",
       "      <td>28576</td>\n",
       "      <td>22</td>\n",
       "      <td>NO</td>\n",
       "      <td>Good</td>\n",
       "    </tr>\n",
       "    <tr>\n",
       "      <th>574</th>\n",
       "      <td>YES</td>\n",
       "      <td>Divorced</td>\n",
       "      <td>44809</td>\n",
       "      <td>28768</td>\n",
       "      <td>29</td>\n",
       "      <td>YES</td>\n",
       "      <td>Good</td>\n",
       "    </tr>\n",
       "    <tr>\n",
       "      <th>479</th>\n",
       "      <td>YES</td>\n",
       "      <td>Married</td>\n",
       "      <td>58403</td>\n",
       "      <td>68995</td>\n",
       "      <td>21</td>\n",
       "      <td>NO</td>\n",
       "      <td>Good</td>\n",
       "    </tr>\n",
       "    <tr>\n",
       "      <th>458</th>\n",
       "      <td>YES</td>\n",
       "      <td>Single</td>\n",
       "      <td>10455</td>\n",
       "      <td>110892</td>\n",
       "      <td>18</td>\n",
       "      <td>YES</td>\n",
       "      <td>Risky</td>\n",
       "    </tr>\n",
       "    <tr>\n",
       "      <th>66</th>\n",
       "      <td>YES</td>\n",
       "      <td>Married</td>\n",
       "      <td>42507</td>\n",
       "      <td>66985</td>\n",
       "      <td>12</td>\n",
       "      <td>YES</td>\n",
       "      <td>Good</td>\n",
       "    </tr>\n",
       "    <tr>\n",
       "      <th>38</th>\n",
       "      <td>NO</td>\n",
       "      <td>Single</td>\n",
       "      <td>14912</td>\n",
       "      <td>177575</td>\n",
       "      <td>3</td>\n",
       "      <td>NO</td>\n",
       "      <td>Risky</td>\n",
       "    </tr>\n",
       "    <tr>\n",
       "      <th>91</th>\n",
       "      <td>YES</td>\n",
       "      <td>Married</td>\n",
       "      <td>99325</td>\n",
       "      <td>73733</td>\n",
       "      <td>10</td>\n",
       "      <td>YES</td>\n",
       "      <td>Good</td>\n",
       "    </tr>\n",
       "    <tr>\n",
       "      <th>259</th>\n",
       "      <td>NO</td>\n",
       "      <td>Married</td>\n",
       "      <td>24347</td>\n",
       "      <td>197841</td>\n",
       "      <td>7</td>\n",
       "      <td>NO</td>\n",
       "      <td>Risky</td>\n",
       "    </tr>\n",
       "    <tr>\n",
       "      <th>150</th>\n",
       "      <td>NO</td>\n",
       "      <td>Married</td>\n",
       "      <td>79700</td>\n",
       "      <td>161759</td>\n",
       "      <td>28</td>\n",
       "      <td>NO</td>\n",
       "      <td>Good</td>\n",
       "    </tr>\n",
       "    <tr>\n",
       "      <th>42</th>\n",
       "      <td>NO</td>\n",
       "      <td>Single</td>\n",
       "      <td>96485</td>\n",
       "      <td>51666</td>\n",
       "      <td>12</td>\n",
       "      <td>NO</td>\n",
       "      <td>Good</td>\n",
       "    </tr>\n",
       "    <tr>\n",
       "      <th>277</th>\n",
       "      <td>NO</td>\n",
       "      <td>Divorced</td>\n",
       "      <td>63710</td>\n",
       "      <td>117364</td>\n",
       "      <td>11</td>\n",
       "      <td>NO</td>\n",
       "      <td>Good</td>\n",
       "    </tr>\n",
       "    <tr>\n",
       "      <th>223</th>\n",
       "      <td>YES</td>\n",
       "      <td>Married</td>\n",
       "      <td>38374</td>\n",
       "      <td>192297</td>\n",
       "      <td>17</td>\n",
       "      <td>YES</td>\n",
       "      <td>Good</td>\n",
       "    </tr>\n",
       "    <tr>\n",
       "      <th>430</th>\n",
       "      <td>YES</td>\n",
       "      <td>Married</td>\n",
       "      <td>98720</td>\n",
       "      <td>161215</td>\n",
       "      <td>8</td>\n",
       "      <td>NO</td>\n",
       "      <td>Good</td>\n",
       "    </tr>\n",
       "    <tr>\n",
       "      <th>577</th>\n",
       "      <td>YES</td>\n",
       "      <td>Married</td>\n",
       "      <td>56166</td>\n",
       "      <td>52940</td>\n",
       "      <td>5</td>\n",
       "      <td>YES</td>\n",
       "      <td>Good</td>\n",
       "    </tr>\n",
       "    <tr>\n",
       "      <th>377</th>\n",
       "      <td>YES</td>\n",
       "      <td>Single</td>\n",
       "      <td>56555</td>\n",
       "      <td>103490</td>\n",
       "      <td>30</td>\n",
       "      <td>NO</td>\n",
       "      <td>Good</td>\n",
       "    </tr>\n",
       "    <tr>\n",
       "      <th>282</th>\n",
       "      <td>YES</td>\n",
       "      <td>Married</td>\n",
       "      <td>64667</td>\n",
       "      <td>59590</td>\n",
       "      <td>29</td>\n",
       "      <td>NO</td>\n",
       "      <td>Good</td>\n",
       "    </tr>\n",
       "    <tr>\n",
       "      <th>67</th>\n",
       "      <td>YES</td>\n",
       "      <td>Married</td>\n",
       "      <td>61486</td>\n",
       "      <td>173986</td>\n",
       "      <td>24</td>\n",
       "      <td>NO</td>\n",
       "      <td>Good</td>\n",
       "    </tr>\n",
       "    <tr>\n",
       "      <th>510</th>\n",
       "      <td>YES</td>\n",
       "      <td>Married</td>\n",
       "      <td>72115</td>\n",
       "      <td>75436</td>\n",
       "      <td>14</td>\n",
       "      <td>YES</td>\n",
       "      <td>Good</td>\n",
       "    </tr>\n",
       "    <tr>\n",
       "      <th>201</th>\n",
       "      <td>YES</td>\n",
       "      <td>Divorced</td>\n",
       "      <td>31088</td>\n",
       "      <td>58225</td>\n",
       "      <td>27</td>\n",
       "      <td>YES</td>\n",
       "      <td>Good</td>\n",
       "    </tr>\n",
       "    <tr>\n",
       "      <th>30</th>\n",
       "      <td>YES</td>\n",
       "      <td>Divorced</td>\n",
       "      <td>73854</td>\n",
       "      <td>117788</td>\n",
       "      <td>0</td>\n",
       "      <td>YES</td>\n",
       "      <td>Good</td>\n",
       "    </tr>\n",
       "    <tr>\n",
       "      <th>564</th>\n",
       "      <td>YES</td>\n",
       "      <td>Married</td>\n",
       "      <td>41545</td>\n",
       "      <td>30098</td>\n",
       "      <td>11</td>\n",
       "      <td>YES</td>\n",
       "      <td>Good</td>\n",
       "    </tr>\n",
       "    <tr>\n",
       "      <th>216</th>\n",
       "      <td>NO</td>\n",
       "      <td>Divorced</td>\n",
       "      <td>31409</td>\n",
       "      <td>85128</td>\n",
       "      <td>22</td>\n",
       "      <td>NO</td>\n",
       "      <td>Good</td>\n",
       "    </tr>\n",
       "    <tr>\n",
       "      <th>71</th>\n",
       "      <td>NO</td>\n",
       "      <td>Single</td>\n",
       "      <td>94287</td>\n",
       "      <td>105680</td>\n",
       "      <td>22</td>\n",
       "      <td>NO</td>\n",
       "      <td>Good</td>\n",
       "    </tr>\n",
       "    <tr>\n",
       "      <th>441</th>\n",
       "      <td>NO</td>\n",
       "      <td>Divorced</td>\n",
       "      <td>42074</td>\n",
       "      <td>70314</td>\n",
       "      <td>24</td>\n",
       "      <td>NO</td>\n",
       "      <td>Good</td>\n",
       "    </tr>\n",
       "    <tr>\n",
       "      <th>358</th>\n",
       "      <td>YES</td>\n",
       "      <td>Single</td>\n",
       "      <td>80239</td>\n",
       "      <td>96432</td>\n",
       "      <td>24</td>\n",
       "      <td>YES</td>\n",
       "      <td>Good</td>\n",
       "    </tr>\n",
       "    <tr>\n",
       "      <th>580</th>\n",
       "      <td>YES</td>\n",
       "      <td>Divorced</td>\n",
       "      <td>31721</td>\n",
       "      <td>123335</td>\n",
       "      <td>1</td>\n",
       "      <td>YES</td>\n",
       "      <td>Good</td>\n",
       "    </tr>\n",
       "    <tr>\n",
       "      <th>491</th>\n",
       "      <td>NO</td>\n",
       "      <td>Divorced</td>\n",
       "      <td>24541</td>\n",
       "      <td>82029</td>\n",
       "      <td>10</td>\n",
       "      <td>NO</td>\n",
       "      <td>Risky</td>\n",
       "    </tr>\n",
       "    <tr>\n",
       "      <th>1</th>\n",
       "      <td>YES</td>\n",
       "      <td>Divorced</td>\n",
       "      <td>33700</td>\n",
       "      <td>134075</td>\n",
       "      <td>18</td>\n",
       "      <td>YES</td>\n",
       "      <td>Good</td>\n",
       "    </tr>\n",
       "    <tr>\n",
       "      <th>8</th>\n",
       "      <td>NO</td>\n",
       "      <td>Single</td>\n",
       "      <td>83519</td>\n",
       "      <td>102481</td>\n",
       "      <td>12</td>\n",
       "      <td>YES</td>\n",
       "      <td>Good</td>\n",
       "    </tr>\n",
       "    <tr>\n",
       "      <th>314</th>\n",
       "      <td>NO</td>\n",
       "      <td>Single</td>\n",
       "      <td>59689</td>\n",
       "      <td>85255</td>\n",
       "      <td>4</td>\n",
       "      <td>NO</td>\n",
       "      <td>Good</td>\n",
       "    </tr>\n",
       "    <tr>\n",
       "      <th>325</th>\n",
       "      <td>NO</td>\n",
       "      <td>Single</td>\n",
       "      <td>94013</td>\n",
       "      <td>25779</td>\n",
       "      <td>16</td>\n",
       "      <td>YES</td>\n",
       "      <td>Good</td>\n",
       "    </tr>\n",
       "    <tr>\n",
       "      <th>292</th>\n",
       "      <td>YES</td>\n",
       "      <td>Single</td>\n",
       "      <td>15710</td>\n",
       "      <td>76406</td>\n",
       "      <td>1</td>\n",
       "      <td>YES</td>\n",
       "      <td>Risky</td>\n",
       "    </tr>\n",
       "    <tr>\n",
       "      <th>107</th>\n",
       "      <td>NO</td>\n",
       "      <td>Married</td>\n",
       "      <td>46629</td>\n",
       "      <td>52424</td>\n",
       "      <td>6</td>\n",
       "      <td>YES</td>\n",
       "      <td>Good</td>\n",
       "    </tr>\n",
       "    <tr>\n",
       "      <th>313</th>\n",
       "      <td>YES</td>\n",
       "      <td>Single</td>\n",
       "      <td>61124</td>\n",
       "      <td>124848</td>\n",
       "      <td>2</td>\n",
       "      <td>NO</td>\n",
       "      <td>Good</td>\n",
       "    </tr>\n",
       "    <tr>\n",
       "      <th>316</th>\n",
       "      <td>NO</td>\n",
       "      <td>Married</td>\n",
       "      <td>48192</td>\n",
       "      <td>70323</td>\n",
       "      <td>25</td>\n",
       "      <td>NO</td>\n",
       "      <td>Good</td>\n",
       "    </tr>\n",
       "    <tr>\n",
       "      <th>389</th>\n",
       "      <td>YES</td>\n",
       "      <td>Single</td>\n",
       "      <td>64225</td>\n",
       "      <td>183187</td>\n",
       "      <td>5</td>\n",
       "      <td>YES</td>\n",
       "      <td>Good</td>\n",
       "    </tr>\n",
       "    <tr>\n",
       "      <th>31</th>\n",
       "      <td>NO</td>\n",
       "      <td>Divorced</td>\n",
       "      <td>64007</td>\n",
       "      <td>147414</td>\n",
       "      <td>21</td>\n",
       "      <td>NO</td>\n",
       "      <td>Good</td>\n",
       "    </tr>\n",
       "    <tr>\n",
       "      <th>164</th>\n",
       "      <td>YES</td>\n",
       "      <td>Single</td>\n",
       "      <td>48779</td>\n",
       "      <td>153192</td>\n",
       "      <td>28</td>\n",
       "      <td>NO</td>\n",
       "      <td>Good</td>\n",
       "    </tr>\n",
       "    <tr>\n",
       "      <th>336</th>\n",
       "      <td>NO</td>\n",
       "      <td>Married</td>\n",
       "      <td>62800</td>\n",
       "      <td>73146</td>\n",
       "      <td>5</td>\n",
       "      <td>NO</td>\n",
       "      <td>Good</td>\n",
       "    </tr>\n",
       "    <tr>\n",
       "      <th>504</th>\n",
       "      <td>NO</td>\n",
       "      <td>Divorced</td>\n",
       "      <td>46939</td>\n",
       "      <td>198571</td>\n",
       "      <td>19</td>\n",
       "      <td>YES</td>\n",
       "      <td>Good</td>\n",
       "    </tr>\n",
       "    <tr>\n",
       "      <th>596</th>\n",
       "      <td>YES</td>\n",
       "      <td>Divorced</td>\n",
       "      <td>69967</td>\n",
       "      <td>55369</td>\n",
       "      <td>2</td>\n",
       "      <td>YES</td>\n",
       "      <td>Good</td>\n",
       "    </tr>\n",
       "    <tr>\n",
       "      <th>401</th>\n",
       "      <td>NO</td>\n",
       "      <td>Married</td>\n",
       "      <td>37580</td>\n",
       "      <td>73065</td>\n",
       "      <td>20</td>\n",
       "      <td>NO</td>\n",
       "      <td>Good</td>\n",
       "    </tr>\n",
       "    <tr>\n",
       "      <th>197</th>\n",
       "      <td>NO</td>\n",
       "      <td>Single</td>\n",
       "      <td>66905</td>\n",
       "      <td>98056</td>\n",
       "      <td>4</td>\n",
       "      <td>YES</td>\n",
       "      <td>Good</td>\n",
       "    </tr>\n",
       "    <tr>\n",
       "      <th>339</th>\n",
       "      <td>YES</td>\n",
       "      <td>Single</td>\n",
       "      <td>13571</td>\n",
       "      <td>110940</td>\n",
       "      <td>10</td>\n",
       "      <td>NO</td>\n",
       "      <td>Risky</td>\n",
       "    </tr>\n",
       "    <tr>\n",
       "      <th>343</th>\n",
       "      <td>YES</td>\n",
       "      <td>Divorced</td>\n",
       "      <td>30495</td>\n",
       "      <td>161143</td>\n",
       "      <td>17</td>\n",
       "      <td>NO</td>\n",
       "      <td>Good</td>\n",
       "    </tr>\n",
       "    <tr>\n",
       "      <th>129</th>\n",
       "      <td>YES</td>\n",
       "      <td>Single</td>\n",
       "      <td>53378</td>\n",
       "      <td>65469</td>\n",
       "      <td>26</td>\n",
       "      <td>NO</td>\n",
       "      <td>Good</td>\n",
       "    </tr>\n",
       "    <tr>\n",
       "      <th>299</th>\n",
       "      <td>YES</td>\n",
       "      <td>Single</td>\n",
       "      <td>34475</td>\n",
       "      <td>197916</td>\n",
       "      <td>7</td>\n",
       "      <td>NO</td>\n",
       "      <td>Good</td>\n",
       "    </tr>\n",
       "  </tbody>\n",
       "</table>\n",
       "</div>"
      ],
      "text/plain": [
       "    Undergrad Marital_Status  Taxable_Income  City_Population  \\\n",
       "547       YES         Single           92819            42690   \n",
       "522        NO       Divorced           43980           103343   \n",
       "449        NO        Married           92007            27875   \n",
       "407        NO         Single           33138            52144   \n",
       "131       YES         Single           56501           174321   \n",
       "559       YES       Divorced           72026           180424   \n",
       "424       YES        Married           72268            94199   \n",
       "156       YES        Married           39114           125987   \n",
       "436        NO       Divorced           98738           158057   \n",
       "203       YES       Divorced           56536           117260   \n",
       "97        YES       Divorced           79583            37849   \n",
       "84         NO        Married           69098           178083   \n",
       "304       YES       Divorced           62141           106757   \n",
       "215        NO       Divorced           52891            28576   \n",
       "574       YES       Divorced           44809            28768   \n",
       "479       YES        Married           58403            68995   \n",
       "458       YES         Single           10455           110892   \n",
       "66        YES        Married           42507            66985   \n",
       "38         NO         Single           14912           177575   \n",
       "91        YES        Married           99325            73733   \n",
       "259        NO        Married           24347           197841   \n",
       "150        NO        Married           79700           161759   \n",
       "42         NO         Single           96485            51666   \n",
       "277        NO       Divorced           63710           117364   \n",
       "223       YES        Married           38374           192297   \n",
       "430       YES        Married           98720           161215   \n",
       "577       YES        Married           56166            52940   \n",
       "377       YES         Single           56555           103490   \n",
       "282       YES        Married           64667            59590   \n",
       "67        YES        Married           61486           173986   \n",
       "510       YES        Married           72115            75436   \n",
       "201       YES       Divorced           31088            58225   \n",
       "30        YES       Divorced           73854           117788   \n",
       "564       YES        Married           41545            30098   \n",
       "216        NO       Divorced           31409            85128   \n",
       "71         NO         Single           94287           105680   \n",
       "441        NO       Divorced           42074            70314   \n",
       "358       YES         Single           80239            96432   \n",
       "580       YES       Divorced           31721           123335   \n",
       "491        NO       Divorced           24541            82029   \n",
       "1         YES       Divorced           33700           134075   \n",
       "8          NO         Single           83519           102481   \n",
       "314        NO         Single           59689            85255   \n",
       "325        NO         Single           94013            25779   \n",
       "292       YES         Single           15710            76406   \n",
       "107        NO        Married           46629            52424   \n",
       "313       YES         Single           61124           124848   \n",
       "316        NO        Married           48192            70323   \n",
       "389       YES         Single           64225           183187   \n",
       "31         NO       Divorced           64007           147414   \n",
       "164       YES         Single           48779           153192   \n",
       "336        NO        Married           62800            73146   \n",
       "504        NO       Divorced           46939           198571   \n",
       "596       YES       Divorced           69967            55369   \n",
       "401        NO        Married           37580            73065   \n",
       "197        NO         Single           66905            98056   \n",
       "339       YES         Single           13571           110940   \n",
       "343       YES       Divorced           30495           161143   \n",
       "129       YES         Single           53378            65469   \n",
       "299       YES         Single           34475           197916   \n",
       "\n",
       "     Work_Experience Urban Income  \n",
       "547               25   YES  Good   \n",
       "522               10    NO  Good   \n",
       "449               11    NO  Good   \n",
       "407                6    NO  Good   \n",
       "131               16   YES  Good   \n",
       "559               26    NO  Good   \n",
       "424                0   YES  Good   \n",
       "156                3   YES  Good   \n",
       "436                4   YES  Good   \n",
       "203                4    NO  Good   \n",
       "97                19   YES  Good   \n",
       "84                 4   YES  Good   \n",
       "304               23   YES  Good   \n",
       "215               22    NO  Good   \n",
       "574               29   YES  Good   \n",
       "479               21    NO  Good   \n",
       "458               18   YES  Risky  \n",
       "66                12   YES  Good   \n",
       "38                 3    NO  Risky  \n",
       "91                10   YES  Good   \n",
       "259                7    NO  Risky  \n",
       "150               28    NO  Good   \n",
       "42                12    NO  Good   \n",
       "277               11    NO  Good   \n",
       "223               17   YES  Good   \n",
       "430                8    NO  Good   \n",
       "577                5   YES  Good   \n",
       "377               30    NO  Good   \n",
       "282               29    NO  Good   \n",
       "67                24    NO  Good   \n",
       "510               14   YES  Good   \n",
       "201               27   YES  Good   \n",
       "30                 0   YES  Good   \n",
       "564               11   YES  Good   \n",
       "216               22    NO  Good   \n",
       "71                22    NO  Good   \n",
       "441               24    NO  Good   \n",
       "358               24   YES  Good   \n",
       "580                1   YES  Good   \n",
       "491               10    NO  Risky  \n",
       "1                 18   YES  Good   \n",
       "8                 12   YES  Good   \n",
       "314                4    NO  Good   \n",
       "325               16   YES  Good   \n",
       "292                1   YES  Risky  \n",
       "107                6   YES  Good   \n",
       "313                2    NO  Good   \n",
       "316               25    NO  Good   \n",
       "389                5   YES  Good   \n",
       "31                21    NO  Good   \n",
       "164               28    NO  Good   \n",
       "336                5    NO  Good   \n",
       "504               19   YES  Good   \n",
       "596                2   YES  Good   \n",
       "401               20    NO  Good   \n",
       "197                4   YES  Good   \n",
       "339               10    NO  Risky  \n",
       "343               17    NO  Good   \n",
       "129               26    NO  Good   \n",
       "299                7    NO  Good   "
      ]
     },
     "execution_count": 92,
     "metadata": {},
     "output_type": "execute_result"
    }
   ],
   "source": [
    "data"
   ]
  },
  {
   "cell_type": "code",
   "execution_count": 93,
   "metadata": {
    "ExecuteTime": {
     "end_time": "2021-01-08T09:21:54.247849Z",
     "start_time": "2021-01-08T09:21:54.231848Z"
    }
   },
   "outputs": [],
   "source": [
    "from sklearn import preprocessing\n",
    "le=preprocessing.LabelEncoder()\n",
    "for column_name in data.columns:\n",
    "    if data[column_name].dtype == object:\n",
    "        data[column_name] = le.fit_transform(data[column_name])\n",
    "    else:\n",
    "        pass"
   ]
  },
  {
   "cell_type": "code",
   "execution_count": 94,
   "metadata": {
    "ExecuteTime": {
     "end_time": "2021-01-08T09:21:55.135812Z",
     "start_time": "2021-01-08T09:21:55.119811Z"
    }
   },
   "outputs": [
    {
     "data": {
      "text/plain": [
       "['Undergrad',\n",
       " 'Marital_Status',\n",
       " 'Taxable_Income',\n",
       " 'City_Population',\n",
       " 'Work_Experience',\n",
       " 'Urban',\n",
       " 'Income']"
      ]
     },
     "execution_count": 94,
     "metadata": {},
     "output_type": "execute_result"
    }
   ],
   "source": [
    "\n",
    "## Collecting the column names\n",
    "colnames = list(data.columns)\n",
    "colnames"
   ]
  },
  {
   "cell_type": "code",
   "execution_count": 95,
   "metadata": {
    "ExecuteTime": {
     "end_time": "2021-01-08T09:21:56.003627Z",
     "start_time": "2021-01-08T09:21:55.963628Z"
    }
   },
   "outputs": [
    {
     "data": {
      "text/html": [
       "<div>\n",
       "<style scoped>\n",
       "    .dataframe tbody tr th:only-of-type {\n",
       "        vertical-align: middle;\n",
       "    }\n",
       "\n",
       "    .dataframe tbody tr th {\n",
       "        vertical-align: top;\n",
       "    }\n",
       "\n",
       "    .dataframe thead th {\n",
       "        text-align: right;\n",
       "    }\n",
       "</style>\n",
       "<table border=\"1\" class=\"dataframe\">\n",
       "  <thead>\n",
       "    <tr style=\"text-align: right;\">\n",
       "      <th></th>\n",
       "      <th>Undergrad</th>\n",
       "      <th>Marital_Status</th>\n",
       "      <th>Taxable_Income</th>\n",
       "      <th>City_Population</th>\n",
       "      <th>Work_Experience</th>\n",
       "      <th>Urban</th>\n",
       "      <th>Income</th>\n",
       "    </tr>\n",
       "  </thead>\n",
       "  <tbody>\n",
       "    <tr>\n",
       "      <th>547</th>\n",
       "      <td>1</td>\n",
       "      <td>2</td>\n",
       "      <td>92819</td>\n",
       "      <td>42690</td>\n",
       "      <td>25</td>\n",
       "      <td>1</td>\n",
       "      <td>0</td>\n",
       "    </tr>\n",
       "    <tr>\n",
       "      <th>522</th>\n",
       "      <td>0</td>\n",
       "      <td>0</td>\n",
       "      <td>43980</td>\n",
       "      <td>103343</td>\n",
       "      <td>10</td>\n",
       "      <td>0</td>\n",
       "      <td>0</td>\n",
       "    </tr>\n",
       "    <tr>\n",
       "      <th>449</th>\n",
       "      <td>0</td>\n",
       "      <td>1</td>\n",
       "      <td>92007</td>\n",
       "      <td>27875</td>\n",
       "      <td>11</td>\n",
       "      <td>0</td>\n",
       "      <td>0</td>\n",
       "    </tr>\n",
       "    <tr>\n",
       "      <th>407</th>\n",
       "      <td>0</td>\n",
       "      <td>2</td>\n",
       "      <td>33138</td>\n",
       "      <td>52144</td>\n",
       "      <td>6</td>\n",
       "      <td>0</td>\n",
       "      <td>0</td>\n",
       "    </tr>\n",
       "    <tr>\n",
       "      <th>131</th>\n",
       "      <td>1</td>\n",
       "      <td>2</td>\n",
       "      <td>56501</td>\n",
       "      <td>174321</td>\n",
       "      <td>16</td>\n",
       "      <td>1</td>\n",
       "      <td>0</td>\n",
       "    </tr>\n",
       "    <tr>\n",
       "      <th>559</th>\n",
       "      <td>1</td>\n",
       "      <td>0</td>\n",
       "      <td>72026</td>\n",
       "      <td>180424</td>\n",
       "      <td>26</td>\n",
       "      <td>0</td>\n",
       "      <td>0</td>\n",
       "    </tr>\n",
       "    <tr>\n",
       "      <th>424</th>\n",
       "      <td>1</td>\n",
       "      <td>1</td>\n",
       "      <td>72268</td>\n",
       "      <td>94199</td>\n",
       "      <td>0</td>\n",
       "      <td>1</td>\n",
       "      <td>0</td>\n",
       "    </tr>\n",
       "    <tr>\n",
       "      <th>156</th>\n",
       "      <td>1</td>\n",
       "      <td>1</td>\n",
       "      <td>39114</td>\n",
       "      <td>125987</td>\n",
       "      <td>3</td>\n",
       "      <td>1</td>\n",
       "      <td>0</td>\n",
       "    </tr>\n",
       "    <tr>\n",
       "      <th>436</th>\n",
       "      <td>0</td>\n",
       "      <td>0</td>\n",
       "      <td>98738</td>\n",
       "      <td>158057</td>\n",
       "      <td>4</td>\n",
       "      <td>1</td>\n",
       "      <td>0</td>\n",
       "    </tr>\n",
       "    <tr>\n",
       "      <th>203</th>\n",
       "      <td>1</td>\n",
       "      <td>0</td>\n",
       "      <td>56536</td>\n",
       "      <td>117260</td>\n",
       "      <td>4</td>\n",
       "      <td>0</td>\n",
       "      <td>0</td>\n",
       "    </tr>\n",
       "    <tr>\n",
       "      <th>97</th>\n",
       "      <td>1</td>\n",
       "      <td>0</td>\n",
       "      <td>79583</td>\n",
       "      <td>37849</td>\n",
       "      <td>19</td>\n",
       "      <td>1</td>\n",
       "      <td>0</td>\n",
       "    </tr>\n",
       "    <tr>\n",
       "      <th>84</th>\n",
       "      <td>0</td>\n",
       "      <td>1</td>\n",
       "      <td>69098</td>\n",
       "      <td>178083</td>\n",
       "      <td>4</td>\n",
       "      <td>1</td>\n",
       "      <td>0</td>\n",
       "    </tr>\n",
       "    <tr>\n",
       "      <th>304</th>\n",
       "      <td>1</td>\n",
       "      <td>0</td>\n",
       "      <td>62141</td>\n",
       "      <td>106757</td>\n",
       "      <td>23</td>\n",
       "      <td>1</td>\n",
       "      <td>0</td>\n",
       "    </tr>\n",
       "    <tr>\n",
       "      <th>215</th>\n",
       "      <td>0</td>\n",
       "      <td>0</td>\n",
       "      <td>52891</td>\n",
       "      <td>28576</td>\n",
       "      <td>22</td>\n",
       "      <td>0</td>\n",
       "      <td>0</td>\n",
       "    </tr>\n",
       "    <tr>\n",
       "      <th>574</th>\n",
       "      <td>1</td>\n",
       "      <td>0</td>\n",
       "      <td>44809</td>\n",
       "      <td>28768</td>\n",
       "      <td>29</td>\n",
       "      <td>1</td>\n",
       "      <td>0</td>\n",
       "    </tr>\n",
       "    <tr>\n",
       "      <th>479</th>\n",
       "      <td>1</td>\n",
       "      <td>1</td>\n",
       "      <td>58403</td>\n",
       "      <td>68995</td>\n",
       "      <td>21</td>\n",
       "      <td>0</td>\n",
       "      <td>0</td>\n",
       "    </tr>\n",
       "    <tr>\n",
       "      <th>458</th>\n",
       "      <td>1</td>\n",
       "      <td>2</td>\n",
       "      <td>10455</td>\n",
       "      <td>110892</td>\n",
       "      <td>18</td>\n",
       "      <td>1</td>\n",
       "      <td>1</td>\n",
       "    </tr>\n",
       "    <tr>\n",
       "      <th>66</th>\n",
       "      <td>1</td>\n",
       "      <td>1</td>\n",
       "      <td>42507</td>\n",
       "      <td>66985</td>\n",
       "      <td>12</td>\n",
       "      <td>1</td>\n",
       "      <td>0</td>\n",
       "    </tr>\n",
       "    <tr>\n",
       "      <th>38</th>\n",
       "      <td>0</td>\n",
       "      <td>2</td>\n",
       "      <td>14912</td>\n",
       "      <td>177575</td>\n",
       "      <td>3</td>\n",
       "      <td>0</td>\n",
       "      <td>1</td>\n",
       "    </tr>\n",
       "    <tr>\n",
       "      <th>91</th>\n",
       "      <td>1</td>\n",
       "      <td>1</td>\n",
       "      <td>99325</td>\n",
       "      <td>73733</td>\n",
       "      <td>10</td>\n",
       "      <td>1</td>\n",
       "      <td>0</td>\n",
       "    </tr>\n",
       "    <tr>\n",
       "      <th>259</th>\n",
       "      <td>0</td>\n",
       "      <td>1</td>\n",
       "      <td>24347</td>\n",
       "      <td>197841</td>\n",
       "      <td>7</td>\n",
       "      <td>0</td>\n",
       "      <td>1</td>\n",
       "    </tr>\n",
       "    <tr>\n",
       "      <th>150</th>\n",
       "      <td>0</td>\n",
       "      <td>1</td>\n",
       "      <td>79700</td>\n",
       "      <td>161759</td>\n",
       "      <td>28</td>\n",
       "      <td>0</td>\n",
       "      <td>0</td>\n",
       "    </tr>\n",
       "    <tr>\n",
       "      <th>42</th>\n",
       "      <td>0</td>\n",
       "      <td>2</td>\n",
       "      <td>96485</td>\n",
       "      <td>51666</td>\n",
       "      <td>12</td>\n",
       "      <td>0</td>\n",
       "      <td>0</td>\n",
       "    </tr>\n",
       "    <tr>\n",
       "      <th>277</th>\n",
       "      <td>0</td>\n",
       "      <td>0</td>\n",
       "      <td>63710</td>\n",
       "      <td>117364</td>\n",
       "      <td>11</td>\n",
       "      <td>0</td>\n",
       "      <td>0</td>\n",
       "    </tr>\n",
       "    <tr>\n",
       "      <th>223</th>\n",
       "      <td>1</td>\n",
       "      <td>1</td>\n",
       "      <td>38374</td>\n",
       "      <td>192297</td>\n",
       "      <td>17</td>\n",
       "      <td>1</td>\n",
       "      <td>0</td>\n",
       "    </tr>\n",
       "    <tr>\n",
       "      <th>430</th>\n",
       "      <td>1</td>\n",
       "      <td>1</td>\n",
       "      <td>98720</td>\n",
       "      <td>161215</td>\n",
       "      <td>8</td>\n",
       "      <td>0</td>\n",
       "      <td>0</td>\n",
       "    </tr>\n",
       "    <tr>\n",
       "      <th>577</th>\n",
       "      <td>1</td>\n",
       "      <td>1</td>\n",
       "      <td>56166</td>\n",
       "      <td>52940</td>\n",
       "      <td>5</td>\n",
       "      <td>1</td>\n",
       "      <td>0</td>\n",
       "    </tr>\n",
       "    <tr>\n",
       "      <th>377</th>\n",
       "      <td>1</td>\n",
       "      <td>2</td>\n",
       "      <td>56555</td>\n",
       "      <td>103490</td>\n",
       "      <td>30</td>\n",
       "      <td>0</td>\n",
       "      <td>0</td>\n",
       "    </tr>\n",
       "    <tr>\n",
       "      <th>282</th>\n",
       "      <td>1</td>\n",
       "      <td>1</td>\n",
       "      <td>64667</td>\n",
       "      <td>59590</td>\n",
       "      <td>29</td>\n",
       "      <td>0</td>\n",
       "      <td>0</td>\n",
       "    </tr>\n",
       "    <tr>\n",
       "      <th>67</th>\n",
       "      <td>1</td>\n",
       "      <td>1</td>\n",
       "      <td>61486</td>\n",
       "      <td>173986</td>\n",
       "      <td>24</td>\n",
       "      <td>0</td>\n",
       "      <td>0</td>\n",
       "    </tr>\n",
       "    <tr>\n",
       "      <th>510</th>\n",
       "      <td>1</td>\n",
       "      <td>1</td>\n",
       "      <td>72115</td>\n",
       "      <td>75436</td>\n",
       "      <td>14</td>\n",
       "      <td>1</td>\n",
       "      <td>0</td>\n",
       "    </tr>\n",
       "    <tr>\n",
       "      <th>201</th>\n",
       "      <td>1</td>\n",
       "      <td>0</td>\n",
       "      <td>31088</td>\n",
       "      <td>58225</td>\n",
       "      <td>27</td>\n",
       "      <td>1</td>\n",
       "      <td>0</td>\n",
       "    </tr>\n",
       "    <tr>\n",
       "      <th>30</th>\n",
       "      <td>1</td>\n",
       "      <td>0</td>\n",
       "      <td>73854</td>\n",
       "      <td>117788</td>\n",
       "      <td>0</td>\n",
       "      <td>1</td>\n",
       "      <td>0</td>\n",
       "    </tr>\n",
       "    <tr>\n",
       "      <th>564</th>\n",
       "      <td>1</td>\n",
       "      <td>1</td>\n",
       "      <td>41545</td>\n",
       "      <td>30098</td>\n",
       "      <td>11</td>\n",
       "      <td>1</td>\n",
       "      <td>0</td>\n",
       "    </tr>\n",
       "    <tr>\n",
       "      <th>216</th>\n",
       "      <td>0</td>\n",
       "      <td>0</td>\n",
       "      <td>31409</td>\n",
       "      <td>85128</td>\n",
       "      <td>22</td>\n",
       "      <td>0</td>\n",
       "      <td>0</td>\n",
       "    </tr>\n",
       "    <tr>\n",
       "      <th>71</th>\n",
       "      <td>0</td>\n",
       "      <td>2</td>\n",
       "      <td>94287</td>\n",
       "      <td>105680</td>\n",
       "      <td>22</td>\n",
       "      <td>0</td>\n",
       "      <td>0</td>\n",
       "    </tr>\n",
       "    <tr>\n",
       "      <th>441</th>\n",
       "      <td>0</td>\n",
       "      <td>0</td>\n",
       "      <td>42074</td>\n",
       "      <td>70314</td>\n",
       "      <td>24</td>\n",
       "      <td>0</td>\n",
       "      <td>0</td>\n",
       "    </tr>\n",
       "    <tr>\n",
       "      <th>358</th>\n",
       "      <td>1</td>\n",
       "      <td>2</td>\n",
       "      <td>80239</td>\n",
       "      <td>96432</td>\n",
       "      <td>24</td>\n",
       "      <td>1</td>\n",
       "      <td>0</td>\n",
       "    </tr>\n",
       "    <tr>\n",
       "      <th>580</th>\n",
       "      <td>1</td>\n",
       "      <td>0</td>\n",
       "      <td>31721</td>\n",
       "      <td>123335</td>\n",
       "      <td>1</td>\n",
       "      <td>1</td>\n",
       "      <td>0</td>\n",
       "    </tr>\n",
       "    <tr>\n",
       "      <th>491</th>\n",
       "      <td>0</td>\n",
       "      <td>0</td>\n",
       "      <td>24541</td>\n",
       "      <td>82029</td>\n",
       "      <td>10</td>\n",
       "      <td>0</td>\n",
       "      <td>1</td>\n",
       "    </tr>\n",
       "    <tr>\n",
       "      <th>1</th>\n",
       "      <td>1</td>\n",
       "      <td>0</td>\n",
       "      <td>33700</td>\n",
       "      <td>134075</td>\n",
       "      <td>18</td>\n",
       "      <td>1</td>\n",
       "      <td>0</td>\n",
       "    </tr>\n",
       "    <tr>\n",
       "      <th>8</th>\n",
       "      <td>0</td>\n",
       "      <td>2</td>\n",
       "      <td>83519</td>\n",
       "      <td>102481</td>\n",
       "      <td>12</td>\n",
       "      <td>1</td>\n",
       "      <td>0</td>\n",
       "    </tr>\n",
       "    <tr>\n",
       "      <th>314</th>\n",
       "      <td>0</td>\n",
       "      <td>2</td>\n",
       "      <td>59689</td>\n",
       "      <td>85255</td>\n",
       "      <td>4</td>\n",
       "      <td>0</td>\n",
       "      <td>0</td>\n",
       "    </tr>\n",
       "    <tr>\n",
       "      <th>325</th>\n",
       "      <td>0</td>\n",
       "      <td>2</td>\n",
       "      <td>94013</td>\n",
       "      <td>25779</td>\n",
       "      <td>16</td>\n",
       "      <td>1</td>\n",
       "      <td>0</td>\n",
       "    </tr>\n",
       "    <tr>\n",
       "      <th>292</th>\n",
       "      <td>1</td>\n",
       "      <td>2</td>\n",
       "      <td>15710</td>\n",
       "      <td>76406</td>\n",
       "      <td>1</td>\n",
       "      <td>1</td>\n",
       "      <td>1</td>\n",
       "    </tr>\n",
       "    <tr>\n",
       "      <th>107</th>\n",
       "      <td>0</td>\n",
       "      <td>1</td>\n",
       "      <td>46629</td>\n",
       "      <td>52424</td>\n",
       "      <td>6</td>\n",
       "      <td>1</td>\n",
       "      <td>0</td>\n",
       "    </tr>\n",
       "    <tr>\n",
       "      <th>313</th>\n",
       "      <td>1</td>\n",
       "      <td>2</td>\n",
       "      <td>61124</td>\n",
       "      <td>124848</td>\n",
       "      <td>2</td>\n",
       "      <td>0</td>\n",
       "      <td>0</td>\n",
       "    </tr>\n",
       "    <tr>\n",
       "      <th>316</th>\n",
       "      <td>0</td>\n",
       "      <td>1</td>\n",
       "      <td>48192</td>\n",
       "      <td>70323</td>\n",
       "      <td>25</td>\n",
       "      <td>0</td>\n",
       "      <td>0</td>\n",
       "    </tr>\n",
       "    <tr>\n",
       "      <th>389</th>\n",
       "      <td>1</td>\n",
       "      <td>2</td>\n",
       "      <td>64225</td>\n",
       "      <td>183187</td>\n",
       "      <td>5</td>\n",
       "      <td>1</td>\n",
       "      <td>0</td>\n",
       "    </tr>\n",
       "    <tr>\n",
       "      <th>31</th>\n",
       "      <td>0</td>\n",
       "      <td>0</td>\n",
       "      <td>64007</td>\n",
       "      <td>147414</td>\n",
       "      <td>21</td>\n",
       "      <td>0</td>\n",
       "      <td>0</td>\n",
       "    </tr>\n",
       "    <tr>\n",
       "      <th>164</th>\n",
       "      <td>1</td>\n",
       "      <td>2</td>\n",
       "      <td>48779</td>\n",
       "      <td>153192</td>\n",
       "      <td>28</td>\n",
       "      <td>0</td>\n",
       "      <td>0</td>\n",
       "    </tr>\n",
       "    <tr>\n",
       "      <th>336</th>\n",
       "      <td>0</td>\n",
       "      <td>1</td>\n",
       "      <td>62800</td>\n",
       "      <td>73146</td>\n",
       "      <td>5</td>\n",
       "      <td>0</td>\n",
       "      <td>0</td>\n",
       "    </tr>\n",
       "    <tr>\n",
       "      <th>504</th>\n",
       "      <td>0</td>\n",
       "      <td>0</td>\n",
       "      <td>46939</td>\n",
       "      <td>198571</td>\n",
       "      <td>19</td>\n",
       "      <td>1</td>\n",
       "      <td>0</td>\n",
       "    </tr>\n",
       "    <tr>\n",
       "      <th>596</th>\n",
       "      <td>1</td>\n",
       "      <td>0</td>\n",
       "      <td>69967</td>\n",
       "      <td>55369</td>\n",
       "      <td>2</td>\n",
       "      <td>1</td>\n",
       "      <td>0</td>\n",
       "    </tr>\n",
       "    <tr>\n",
       "      <th>401</th>\n",
       "      <td>0</td>\n",
       "      <td>1</td>\n",
       "      <td>37580</td>\n",
       "      <td>73065</td>\n",
       "      <td>20</td>\n",
       "      <td>0</td>\n",
       "      <td>0</td>\n",
       "    </tr>\n",
       "    <tr>\n",
       "      <th>197</th>\n",
       "      <td>0</td>\n",
       "      <td>2</td>\n",
       "      <td>66905</td>\n",
       "      <td>98056</td>\n",
       "      <td>4</td>\n",
       "      <td>1</td>\n",
       "      <td>0</td>\n",
       "    </tr>\n",
       "    <tr>\n",
       "      <th>339</th>\n",
       "      <td>1</td>\n",
       "      <td>2</td>\n",
       "      <td>13571</td>\n",
       "      <td>110940</td>\n",
       "      <td>10</td>\n",
       "      <td>0</td>\n",
       "      <td>1</td>\n",
       "    </tr>\n",
       "    <tr>\n",
       "      <th>343</th>\n",
       "      <td>1</td>\n",
       "      <td>0</td>\n",
       "      <td>30495</td>\n",
       "      <td>161143</td>\n",
       "      <td>17</td>\n",
       "      <td>0</td>\n",
       "      <td>0</td>\n",
       "    </tr>\n",
       "    <tr>\n",
       "      <th>129</th>\n",
       "      <td>1</td>\n",
       "      <td>2</td>\n",
       "      <td>53378</td>\n",
       "      <td>65469</td>\n",
       "      <td>26</td>\n",
       "      <td>0</td>\n",
       "      <td>0</td>\n",
       "    </tr>\n",
       "    <tr>\n",
       "      <th>299</th>\n",
       "      <td>1</td>\n",
       "      <td>2</td>\n",
       "      <td>34475</td>\n",
       "      <td>197916</td>\n",
       "      <td>7</td>\n",
       "      <td>0</td>\n",
       "      <td>0</td>\n",
       "    </tr>\n",
       "  </tbody>\n",
       "</table>\n",
       "</div>"
      ],
      "text/plain": [
       "     Undergrad  Marital_Status  Taxable_Income  City_Population  \\\n",
       "547          1               2           92819            42690   \n",
       "522          0               0           43980           103343   \n",
       "449          0               1           92007            27875   \n",
       "407          0               2           33138            52144   \n",
       "131          1               2           56501           174321   \n",
       "559          1               0           72026           180424   \n",
       "424          1               1           72268            94199   \n",
       "156          1               1           39114           125987   \n",
       "436          0               0           98738           158057   \n",
       "203          1               0           56536           117260   \n",
       "97           1               0           79583            37849   \n",
       "84           0               1           69098           178083   \n",
       "304          1               0           62141           106757   \n",
       "215          0               0           52891            28576   \n",
       "574          1               0           44809            28768   \n",
       "479          1               1           58403            68995   \n",
       "458          1               2           10455           110892   \n",
       "66           1               1           42507            66985   \n",
       "38           0               2           14912           177575   \n",
       "91           1               1           99325            73733   \n",
       "259          0               1           24347           197841   \n",
       "150          0               1           79700           161759   \n",
       "42           0               2           96485            51666   \n",
       "277          0               0           63710           117364   \n",
       "223          1               1           38374           192297   \n",
       "430          1               1           98720           161215   \n",
       "577          1               1           56166            52940   \n",
       "377          1               2           56555           103490   \n",
       "282          1               1           64667            59590   \n",
       "67           1               1           61486           173986   \n",
       "510          1               1           72115            75436   \n",
       "201          1               0           31088            58225   \n",
       "30           1               0           73854           117788   \n",
       "564          1               1           41545            30098   \n",
       "216          0               0           31409            85128   \n",
       "71           0               2           94287           105680   \n",
       "441          0               0           42074            70314   \n",
       "358          1               2           80239            96432   \n",
       "580          1               0           31721           123335   \n",
       "491          0               0           24541            82029   \n",
       "1            1               0           33700           134075   \n",
       "8            0               2           83519           102481   \n",
       "314          0               2           59689            85255   \n",
       "325          0               2           94013            25779   \n",
       "292          1               2           15710            76406   \n",
       "107          0               1           46629            52424   \n",
       "313          1               2           61124           124848   \n",
       "316          0               1           48192            70323   \n",
       "389          1               2           64225           183187   \n",
       "31           0               0           64007           147414   \n",
       "164          1               2           48779           153192   \n",
       "336          0               1           62800            73146   \n",
       "504          0               0           46939           198571   \n",
       "596          1               0           69967            55369   \n",
       "401          0               1           37580            73065   \n",
       "197          0               2           66905            98056   \n",
       "339          1               2           13571           110940   \n",
       "343          1               0           30495           161143   \n",
       "129          1               2           53378            65469   \n",
       "299          1               2           34475           197916   \n",
       "\n",
       "     Work_Experience  Urban  Income  \n",
       "547               25      1       0  \n",
       "522               10      0       0  \n",
       "449               11      0       0  \n",
       "407                6      0       0  \n",
       "131               16      1       0  \n",
       "559               26      0       0  \n",
       "424                0      1       0  \n",
       "156                3      1       0  \n",
       "436                4      1       0  \n",
       "203                4      0       0  \n",
       "97                19      1       0  \n",
       "84                 4      1       0  \n",
       "304               23      1       0  \n",
       "215               22      0       0  \n",
       "574               29      1       0  \n",
       "479               21      0       0  \n",
       "458               18      1       1  \n",
       "66                12      1       0  \n",
       "38                 3      0       1  \n",
       "91                10      1       0  \n",
       "259                7      0       1  \n",
       "150               28      0       0  \n",
       "42                12      0       0  \n",
       "277               11      0       0  \n",
       "223               17      1       0  \n",
       "430                8      0       0  \n",
       "577                5      1       0  \n",
       "377               30      0       0  \n",
       "282               29      0       0  \n",
       "67                24      0       0  \n",
       "510               14      1       0  \n",
       "201               27      1       0  \n",
       "30                 0      1       0  \n",
       "564               11      1       0  \n",
       "216               22      0       0  \n",
       "71                22      0       0  \n",
       "441               24      0       0  \n",
       "358               24      1       0  \n",
       "580                1      1       0  \n",
       "491               10      0       1  \n",
       "1                 18      1       0  \n",
       "8                 12      1       0  \n",
       "314                4      0       0  \n",
       "325               16      1       0  \n",
       "292                1      1       1  \n",
       "107                6      1       0  \n",
       "313                2      0       0  \n",
       "316               25      0       0  \n",
       "389                5      1       0  \n",
       "31                21      0       0  \n",
       "164               28      0       0  \n",
       "336                5      0       0  \n",
       "504               19      1       0  \n",
       "596                2      1       0  \n",
       "401               20      0       0  \n",
       "197                4      1       0  \n",
       "339               10      0       1  \n",
       "343               17      0       0  \n",
       "129               26      0       0  \n",
       "299                7      0       0  "
      ]
     },
     "execution_count": 95,
     "metadata": {},
     "output_type": "execute_result"
    }
   ],
   "source": [
    "data"
   ]
  },
  {
   "cell_type": "code",
   "execution_count": 96,
   "metadata": {
    "ExecuteTime": {
     "end_time": "2021-01-08T09:21:56.751147Z",
     "start_time": "2021-01-08T09:21:56.735405Z"
    }
   },
   "outputs": [],
   "source": [
    "\n",
    "x= data.iloc[:,0:5]\n",
    "y= data.iloc[:,5]"
   ]
  },
  {
   "cell_type": "markdown",
   "metadata": {},
   "source": [
    "# Now we will be visualizing all the features from the dataset on graphs."
   ]
  },
  {
   "cell_type": "code",
   "execution_count": 97,
   "metadata": {
    "ExecuteTime": {
     "end_time": "2021-01-08T09:22:01.570031Z",
     "start_time": "2021-01-08T09:21:58.464937Z"
    }
   },
   "outputs": [
    {
     "data": {
      "image/png": "[encoded data removed]",
      "text/plain": [
       "<Figure size 864x8064 with 6 Axes>"
      ]
     },
     "metadata": {
      "needs_background": "light"
     },
     "output_type": "display_data"
    }
   ],
   "source": [
    "from matplotlib import gridspec\n",
    "# distribution of anomalous features\n",
    "features = data.iloc[:,0:6].columns\n",
    "\n",
    "plt.figure(figsize=(12,28*4))\n",
    "gs = gridspec.GridSpec(28, 1)\n",
    "for i, c in enumerate(data[features]):\n",
    "    ax = plt.subplot(gs[i])\n",
    "    sns.distplot(data[c][data.Income== 1], bins=50)\n",
    "    sns.distplot(data[c][data.Income == 0], bins=50)\n",
    "    ax.set_xlabel('')\n",
    "    ax.set_title('histogram of feature: ' + str(c))\n",
    "plt.show()"
   ]
  },
  {
   "cell_type": "code",
   "execution_count": 98,
   "metadata": {
    "ExecuteTime": {
     "end_time": "2021-01-08T09:22:04.010114Z",
     "start_time": "2021-01-08T09:22:02.146144Z"
    }
   },
   "outputs": [
    {
     "data": {
      "image/png": "[encoded data removed]",
      "text/plain": [
       "<Figure size 1440x1440 with 9 Axes>"
      ]
     },
     "metadata": {
      "needs_background": "light"
     },
     "output_type": "display_data"
    }
   ],
   "source": [
    "# Plot histograms of each parameter \n",
    "data.hist(figsize = (20, 20))\n",
    "plt.show()\n"
   ]
  },
  {
   "cell_type": "markdown",
   "metadata": {},
   "source": [
    "# Let’s separate the Fraudulent cases from the authentic ones and compare their occurrences in the dataset."
   ]
  },
  {
   "cell_type": "code",
   "execution_count": 99,
   "metadata": {
    "ExecuteTime": {
     "end_time": "2021-01-08T09:22:04.457008Z",
     "start_time": "2021-01-08T09:22:04.438961Z"
    }
   },
   "outputs": [
    {
     "name": "stdout",
     "output_type": "stream",
     "text": [
      "0.1111111111111111\n",
      "Fraud Cases: 6\n",
      "Valid cases: 54\n"
     ]
    }
   ],
   "source": [
    "\n",
    "Fraud = data[data['Income'] == 1]\n",
    "Valid = data[data['Income'] == 0]\n",
    "\n",
    "outlier_fraction = len(Fraud)/float(len(Valid))\n",
    "print(outlier_fraction)\n",
    "\n",
    "print('Fraud Cases: {}'.format(len(data[data['Income'] == 1])))\n",
    "print('Valid cases: {}'.format(len(data[data['Income'] == 0])))\n"
   ]
  },
  {
   "cell_type": "markdown",
   "metadata": {
    "ExecuteTime": {
     "end_time": "2021-01-08T08:58:19.473222Z",
     "start_time": "2021-01-08T08:58:19.457225Z"
    }
   },
   "source": [
    "# There is only 0.1% fraudulent cases out all the cases."
   ]
  },
  {
   "cell_type": "code",
   "execution_count": 100,
   "metadata": {
    "ExecuteTime": {
     "end_time": "2021-01-08T09:22:04.834514Z",
     "start_time": "2021-01-08T09:22:04.819973Z"
    }
   },
   "outputs": [
    {
     "name": "stdout",
     "output_type": "stream",
     "text": [
      "Work_exp Details in fradulent cases\n"
     ]
    },
    {
     "data": {
      "text/plain": [
       "count     6.000000\n",
       "mean      8.166667\n",
       "std       6.047038\n",
       "min       1.000000\n",
       "25%       4.000000\n",
       "50%       8.500000\n",
       "75%      10.000000\n",
       "max      18.000000\n",
       "Name: Work_Experience, dtype: float64"
      ]
     },
     "execution_count": 100,
     "metadata": {},
     "output_type": "execute_result"
    }
   ],
   "source": [
    "print(\"Work_exp Details in fradulent cases\")\n",
    "Fraud.Work_Experience.describe()"
   ]
  },
  {
   "cell_type": "code",
   "execution_count": 101,
   "metadata": {
    "ExecuteTime": {
     "end_time": "2021-01-08T09:22:05.286301Z",
     "start_time": "2021-01-08T09:22:05.270308Z"
    }
   },
   "outputs": [
    {
     "name": "stdout",
     "output_type": "stream",
     "text": [
      "Work_Exp details in valid cases\n"
     ]
    },
    {
     "data": {
      "text/plain": [
       "count    54.000000\n",
       "mean     14.648148\n",
       "std       9.286138\n",
       "min       0.000000\n",
       "25%       5.250000\n",
       "50%      15.000000\n",
       "75%      22.750000\n",
       "max      30.000000\n",
       "Name: Work_Experience, dtype: float64"
      ]
     },
     "execution_count": 101,
     "metadata": {},
     "output_type": "execute_result"
    }
   ],
   "source": [
    "print(\"Work_Exp details in valid cases\")\n",
    "Valid.Work_Experience.describe()"
   ]
  },
  {
   "cell_type": "markdown",
   "metadata": {},
   "source": [
    "# Correlation matrix graphically gives us an idea of how features correlate with each other and can help us predict what are the features that are most relevant for the prediction.\n"
   ]
  },
  {
   "cell_type": "code",
   "execution_count": 102,
   "metadata": {
    "ExecuteTime": {
     "end_time": "2021-01-08T09:22:06.054300Z",
     "start_time": "2021-01-08T09:22:05.654335Z"
    }
   },
   "outputs": [
    {
     "data": {
      "image/png": "[encoded data removed]",
      "text/plain": [
       "<Figure size 864x648 with 2 Axes>"
      ]
     },
     "metadata": {
      "needs_background": "light"
     },
     "output_type": "display_data"
    }
   ],
   "source": [
    "# Correlation matrix\n",
    "corrmat = data.corr()\n",
    "fig = plt.figure(figsize = (12, 9))\n",
    "\n",
    "sns.heatmap(corrmat, vmax = .8, square = True)\n",
    "plt.show()\n"
   ]
  },
  {
   "cell_type": "markdown",
   "metadata": {},
   "source": [
    "# This gives us a deeper understanding of the Data available to us.\n",
    "In the HeatMap we can clearly see that most of the features do not correlate to other features but there are some features that either has a positive or a negative correlation with each other."
   ]
  },
  {
   "cell_type": "code",
   "execution_count": 103,
   "metadata": {
    "ExecuteTime": {
     "end_time": "2021-01-08T09:22:07.126422Z",
     "start_time": "2021-01-08T09:22:07.110425Z"
    }
   },
   "outputs": [],
   "source": [
    "#Droping the Taxable income variable - we taken that as Income description\n",
    "data.drop([\"Taxable_Income\"],axis=1,inplace=True)"
   ]
  },
  {
   "cell_type": "markdown",
   "metadata": {},
   "source": [
    "# let’s proceed with dividing the data values "
   ]
  },
  {
   "cell_type": "code",
   "execution_count": 104,
   "metadata": {
    "ExecuteTime": {
     "end_time": "2021-01-08T09:22:08.814610Z",
     "start_time": "2021-01-08T09:22:08.806579Z"
    }
   },
   "outputs": [],
   "source": [
    "x= data.iloc[:,0:5]\n",
    "y= data.iloc[:,5]"
   ]
  },
  {
   "cell_type": "code",
   "execution_count": 105,
   "metadata": {
    "ExecuteTime": {
     "end_time": "2021-01-08T09:22:09.697985Z",
     "start_time": "2021-01-08T09:22:09.681986Z"
    }
   },
   "outputs": [],
   "source": [
    "# Using Skicit-learn to split data into training and testing sets\n",
    "from sklearn.model_selection import train_test_split\n",
    "# Split the data into training and testing sets\n",
    "X_train, X_test, Y_train, Y_test = train_test_split(x, y, test_size = 0.2, random_state = 42)"
   ]
  },
  {
   "cell_type": "markdown",
   "metadata": {},
   "source": [
    "# Building the Isolation Forest Model\n",
    "Isolation forest is generally used for Anomaly detection"
   ]
  },
  {
   "cell_type": "code",
   "execution_count": 106,
   "metadata": {
    "ExecuteTime": {
     "end_time": "2021-01-08T09:22:11.924219Z",
     "start_time": "2021-01-08T09:22:11.916219Z"
    }
   },
   "outputs": [],
   "source": [
    "from sklearn.metrics import classification_report, accuracy_score,precision_score,recall_score,f1_score,matthews_corrcoef\n",
    "from sklearn.metrics import confusion_matrix"
   ]
  },
  {
   "cell_type": "markdown",
   "metadata": {},
   "source": [
    "# Isolation Forest Classifier"
   ]
  },
  {
   "cell_type": "code",
   "execution_count": 109,
   "metadata": {
    "ExecuteTime": {
     "end_time": "2021-01-08T09:22:57.729899Z",
     "start_time": "2021-01-08T09:22:57.305898Z"
    }
   },
   "outputs": [
    {
     "data": {
      "text/plain": [
       "array([ 1, -1,  1,  1, -1,  1,  1,  1,  1, -1,  1,  1])"
      ]
     },
     "execution_count": 109,
     "metadata": {},
     "output_type": "execute_result"
    }
   ],
   "source": [
    "#Building another model/classifier ISOLATION FOREST\n",
    "from sklearn.ensemble import IsolationForest\n",
    "ifc=IsolationForest(max_samples=len(X_train),\n",
    "                    contamination=outlier_fraction,random_state=1)\n",
    "ifc.fit(X_train)\n",
    "scores_pred = ifc.decision_function(X_train)\n",
    "y_pred = ifc.predict(X_test)\n",
    "y_pred"
   ]
  },
  {
   "cell_type": "code",
   "execution_count": 111,
   "metadata": {
    "ExecuteTime": {
     "end_time": "2021-01-08T09:23:30.771791Z",
     "start_time": "2021-01-08T09:23:30.755761Z"
    }
   },
   "outputs": [
    {
     "data": {
      "text/plain": [
       "0"
      ]
     },
     "execution_count": 111,
     "metadata": {},
     "output_type": "execute_result"
    }
   ],
   "source": [
    "# Reshape the prediction values to 0 for valid, 1 for fraud. \n",
    "y_pred[y_pred == 1] = 0\n",
    "y_pred[y_pred == -1] = 1\n",
    "n_errors = (y_pred != Y_test).sum()\n",
    "n_errors"
   ]
  },
  {
   "cell_type": "markdown",
   "metadata": {},
   "source": [
    "# Evaluate the Model and print the results. We will be calculating the Accuracy, Precision, Recall, F1-Score and the Matthews correlation coefficient for the sake of totality."
   ]
  },
  {
   "cell_type": "code",
   "execution_count": 113,
   "metadata": {
    "ExecuteTime": {
     "end_time": "2021-01-08T09:25:55.353565Z",
     "start_time": "2021-01-08T09:25:55.321529Z"
    }
   },
   "outputs": [
    {
     "name": "stdout",
     "output_type": "stream",
     "text": [
      "the Model used is Isolation Forest\n",
      "The accuracy is  1.0\n",
      "The precision is 0.0\n",
      "The recall is 0.0\n",
      "The F1-Score is 0.0\n",
      "The Matthews correlation coefficient is0.0\n"
     ]
    },
    {
     "name": "stderr",
     "output_type": "stream",
     "text": [
      "C:\\Users\\pcs\\anaconda3\\lib\\site-packages\\sklearn\\metrics\\_classification.py:1221: UndefinedMetricWarning: Precision is ill-defined and being set to 0.0 due to no predicted samples. Use `zero_division` parameter to control this behavior.\n",
      "  _warn_prf(average, modifier, msg_start, len(result))\n",
      "C:\\Users\\pcs\\anaconda3\\lib\\site-packages\\sklearn\\metrics\\_classification.py:1221: UndefinedMetricWarning: Recall is ill-defined and being set to 0.0 due to no true samples. Use `zero_division` parameter to control this behavior.\n",
      "  _warn_prf(average, modifier, msg_start, len(result))\n",
      "C:\\Users\\pcs\\anaconda3\\lib\\site-packages\\sklearn\\metrics\\_classification.py:1464: UndefinedMetricWarning: F-score is ill-defined and being set to 0.0 due to no true nor predicted samples. Use `zero_division` parameter to control this behavior.\n",
      "  _warn_prf(\n",
      "C:\\Users\\pcs\\anaconda3\\lib\\site-packages\\sklearn\\metrics\\_classification.py:846: RuntimeWarning: invalid value encountered in double_scalars\n",
      "  mcc = cov_ytyp / np.sqrt(cov_ytyt * cov_ypyp)\n"
     ]
    }
   ],
   "source": [
    "#printing every score of the classifier\n",
    "#scoring in any thing\n",
    "\n",
    "from sklearn.metrics import confusion_matrix\n",
    "n_outliers = len(Fraud)\n",
    "print(\"the Model used is {}\".format(\"Isolation Forest\"))\n",
    "acc= accuracy_score(Y_test,y_pred)\n",
    "print(\"The accuracy is  {}\".format(acc))\n",
    "prec= precision_score(Y_test,y_pred)\n",
    "print(\"The precision is {}\".format(prec))\n",
    "rec= recall_score(Y_test,y_pred)\n",
    "print(\"The recall is {}\".format(rec))\n",
    "f1= f1_score(Y_test,y_pred)\n",
    "print(\"The F1-Score is {}\".format(f1))\n",
    "MCC=matthews_corrcoef(Y_test,y_pred)\n",
    "print(\"The Matthews correlation coefficient is{}\".format(MCC))\n"
   ]
  },
  {
   "cell_type": "markdown",
   "metadata": {},
   "source": [
    "# Visualizing the Confusion Matrix for this model."
   ]
  },
  {
   "cell_type": "code",
   "execution_count": 112,
   "metadata": {
    "ExecuteTime": {
     "end_time": "2021-01-08T09:24:10.367259Z",
     "start_time": "2021-01-08T09:24:10.055224Z"
    }
   },
   "outputs": [
    {
     "data": {
      "image/png": "[encoded data removed]",
      "text/plain": [
       "<Figure size 864x864 with 2 Axes>"
      ]
     },
     "metadata": {
      "needs_background": "light"
     },
     "output_type": "display_data"
    }
   ],
   "source": [
    "#printing the confusion matrix\n",
    "LABELS = ['Normal', 'Fraud']\n",
    "conf_matrix = confusion_matrix(Y_test, y_pred)\n",
    "plt.figure(figsize=(12, 12))\n",
    "sns.heatmap(conf_matrix, xticklabels=LABELS,\n",
    "            yticklabels=LABELS, annot=True, fmt=\"d\");\n",
    "plt.title(\"Confusion matrix\")\n",
    "plt.ylabel('True class')\n",
    "plt.xlabel('Predicted class')\n",
    "plt.show()\n"
   ]
  },
  {
   "cell_type": "code",
   "execution_count": 59,
   "metadata": {
    "ExecuteTime": {
     "end_time": "2021-01-08T08:42:20.689987Z",
     "start_time": "2021-01-08T08:42:20.660685Z"
    }
   },
   "outputs": [
    {
     "name": "stdout",
     "output_type": "stream",
     "text": [
      "Isolation Forest: 3\n",
      "0.75\n",
      "              precision    recall  f1-score   support\n",
      "\n",
      "           0       1.00      0.75      0.86        12\n",
      "           1       0.00      0.00      0.00         0\n",
      "\n",
      "    accuracy                           0.75        12\n",
      "   macro avg       0.50      0.38      0.43        12\n",
      "weighted avg       1.00      0.75      0.86        12\n",
      "\n"
     ]
    },
    {
     "name": "stderr",
     "output_type": "stream",
     "text": [
      "C:\\Users\\pcs\\anaconda3\\lib\\site-packages\\sklearn\\metrics\\_classification.py:1221: UndefinedMetricWarning: Recall and F-score are ill-defined and being set to 0.0 in labels with no true samples. Use `zero_division` parameter to control this behavior.\n",
      "  _warn_prf(average, modifier, msg_start, len(result))\n"
     ]
    }
   ],
   "source": [
    "# Run classification metrics\n",
    "\n",
    "print('{}: {}'.format(\"Isolation Forest\", n_errors))\n",
    "print(accuracy_score(Y_test, y_pred))\n",
    "print(classification_report(Y_test, y_pred))"
   ]
  },
  {
   "cell_type": "markdown",
   "metadata": {},
   "source": [
    "\n",
    "# Building the Random Forest Model\n",
    " Random Forest Classifier"
   ]
  },
  {
   "cell_type": "code",
   "execution_count": 60,
   "metadata": {
    "ExecuteTime": {
     "end_time": "2021-01-08T08:42:21.452106Z",
     "start_time": "2021-01-08T08:42:21.164067Z"
    }
   },
   "outputs": [],
   "source": [
    "# Building the Random Forest Classifier (RANDOM FOREST)\n",
    "from sklearn.ensemble import RandomForestClassifier\n",
    "# random forest model creation\n",
    "rfc = RandomForestClassifier()\n",
    "rfc.fit(X_train,Y_train)\n",
    "# predictions\n",
    "y_pred = rfc.predict(X_test)"
   ]
  },
  {
   "cell_type": "code",
   "execution_count": 61,
   "metadata": {
    "ExecuteTime": {
     "end_time": "2021-01-08T08:42:21.900072Z",
     "start_time": "2021-01-08T08:42:21.884070Z"
    }
   },
   "outputs": [
    {
     "data": {
      "text/plain": [
       "array([0, 0, 0, 0, 0, 0, 0, 0, 0, 0, 1, 0])"
      ]
     },
     "execution_count": 61,
     "metadata": {},
     "output_type": "execute_result"
    }
   ],
   "source": [
    "y_pred"
   ]
  },
  {
   "cell_type": "markdown",
   "metadata": {},
   "source": [
    "# Building an Evaluation matrix on test set"
   ]
  },
  {
   "cell_type": "code",
   "execution_count": 62,
   "metadata": {
    "ExecuteTime": {
     "end_time": "2021-01-08T08:42:22.524072Z",
     "start_time": "2021-01-08T08:42:22.484072Z"
    }
   },
   "outputs": [
    {
     "name": "stdout",
     "output_type": "stream",
     "text": [
      "The model used is Random Forest classifier\n",
      "The accuracy is  0.9166666666666666\n",
      "The precision is 0.0\n",
      "The recall is 0.0\n",
      "The F1-Score is 0.0\n",
      "The Matthews correlation coefficient is 0.0\n"
     ]
    },
    {
     "name": "stderr",
     "output_type": "stream",
     "text": [
      "C:\\Users\\pcs\\anaconda3\\lib\\site-packages\\sklearn\\metrics\\_classification.py:1221: UndefinedMetricWarning: Recall is ill-defined and being set to 0.0 due to no true samples. Use `zero_division` parameter to control this behavior.\n",
      "  _warn_prf(average, modifier, msg_start, len(result))\n",
      "C:\\Users\\pcs\\anaconda3\\lib\\site-packages\\sklearn\\metrics\\_classification.py:846: RuntimeWarning: invalid value encountered in double_scalars\n",
      "  mcc = cov_ytyp / np.sqrt(cov_ytyt * cov_ypyp)\n"
     ]
    }
   ],
   "source": [
    "#printing every score of the classifier\n",
    "#scoring in any thing\n",
    "from sklearn.metrics import classification_report, accuracy_score,precision_score,recall_score,f1_score,matthews_corrcoef\n",
    "from sklearn.metrics import confusion_matrix\n",
    "n_outliers = len(Fraud)\n",
    "n_errors = (y_pred != Y_test).sum()\n",
    "print(\"The model used is Random Forest classifier\")\n",
    "acc= accuracy_score(Y_test,y_pred)\n",
    "print(\"The accuracy is  {}\".format(acc))\n",
    "prec= precision_score(Y_test,y_pred)\n",
    "print(\"The precision is {}\".format(prec))\n",
    "rec= recall_score(Y_test,y_pred)\n",
    "print(\"The recall is {}\".format(rec))\n",
    "f1= f1_score(Y_test,y_pred)\n",
    "print(\"The F1-Score is {}\".format(f1))\n",
    "MCC=matthews_corrcoef(Y_test,y_pred)\n",
    "print(\"The Matthews correlation coefficient is {}\".format(MCC))"
   ]
  },
  {
   "cell_type": "code",
   "execution_count": 63,
   "metadata": {
    "ExecuteTime": {
     "end_time": "2021-01-08T08:42:23.284080Z",
     "start_time": "2021-01-08T08:42:22.956104Z"
    }
   },
   "outputs": [
    {
     "data": {
      "image/png": "[encoded data removed]",
      "text/plain": [
       "<Figure size 864x864 with 2 Axes>"
      ]
     },
     "metadata": {
      "needs_background": "light"
     },
     "output_type": "display_data"
    }
   ],
   "source": [
    "#printing the confusion matrix\n",
    "LABELS = ['Normal', 'Fraud']\n",
    "conf_matrix = confusion_matrix(Y_test, y_pred)\n",
    "plt.figure(figsize=(12, 12))\n",
    "sns.heatmap(conf_matrix, xticklabels=LABELS, yticklabels=LABELS, annot=True, fmt=\"d\");\n",
    "plt.title(\"Confusion matrix\")\n",
    "plt.ylabel('True class')\n",
    "plt.xlabel('Predicted class')\n",
    "plt.show()"
   ]
  },
  {
   "cell_type": "code",
   "execution_count": 64,
   "metadata": {
    "ExecuteTime": {
     "end_time": "2021-01-08T08:42:23.796072Z",
     "start_time": "2021-01-08T08:42:23.764068Z"
    }
   },
   "outputs": [
    {
     "name": "stdout",
     "output_type": "stream",
     "text": [
      "Random Forest: 1\n",
      "0.9166666666666666\n",
      "              precision    recall  f1-score   support\n",
      "\n",
      "           0       1.00      0.92      0.96        12\n",
      "           1       0.00      0.00      0.00         0\n",
      "\n",
      "    accuracy                           0.92        12\n",
      "   macro avg       0.50      0.46      0.48        12\n",
      "weighted avg       1.00      0.92      0.96        12\n",
      "\n"
     ]
    },
    {
     "name": "stderr",
     "output_type": "stream",
     "text": [
      "C:\\Users\\pcs\\anaconda3\\lib\\site-packages\\sklearn\\metrics\\_classification.py:1221: UndefinedMetricWarning: Recall and F-score are ill-defined and being set to 0.0 in labels with no true samples. Use `zero_division` parameter to control this behavior.\n",
      "  _warn_prf(average, modifier, msg_start, len(result))\n"
     ]
    },
    {
     "data": {
      "text/plain": [
       "<Figure size 648x504 with 0 Axes>"
      ]
     },
     "metadata": {},
     "output_type": "display_data"
    }
   ],
   "source": [
    "# Run classification metrics\n",
    "plt.figure(figsize=(9, 7))\n",
    "print('{}: {}'.format(\"Random Forest\", n_errors))\n",
    "print(accuracy_score(Y_test, y_pred))\n",
    "print(classification_report(Y_test, y_pred))"
   ]
  },
  {
   "cell_type": "markdown",
   "metadata": {},
   "source": [
    "# Visualizing the Forest\n",
    "A single tree from the forest is taken randomly and then visualized for the sake of knowing how the Algorithm is taking its decision and this will help in changing the model "
   ]
  },
  {
   "cell_type": "code",
   "execution_count": 65,
   "metadata": {
    "ExecuteTime": {
     "end_time": "2021-01-08T08:42:29.156118Z",
     "start_time": "2021-01-08T08:42:24.412070Z"
    }
   },
   "outputs": [
    {
     "name": "stdout",
     "output_type": "stream",
     "text": [
      "Requirement already satisfied: pydot in c:\\users\\pcs\\anaconda3\\lib\\site-packages (1.4.1)\n",
      "Requirement already satisfied: pyparsing>=2.1.4 in c:\\users\\pcs\\anaconda3\\lib\\site-packages (from pydot) (2.4.7)\n"
     ]
    }
   ],
   "source": [
    "!pip install pydot"
   ]
  },
  {
   "cell_type": "markdown",
   "metadata": {},
   "source": [
    "# Visualizing the Forest\n",
    "A single tree from the forest is taken randomly and then visualized for the sake of knowing how the Algorithm is taking its decision and this will help in changing the model "
   ]
  },
  {
   "cell_type": "code",
   "execution_count": 67,
   "metadata": {
    "ExecuteTime": {
     "end_time": "2021-01-08T08:45:58.720141Z",
     "start_time": "2021-01-08T08:45:56.996012Z"
    }
   },
   "outputs": [
    {
     "data": {
      "image/png": "[encoded data removed]",
      "text/plain": [
       "<IPython.core.display.Image object>"
      ]
     },
     "metadata": {},
     "output_type": "display_data"
    }
   ],
   "source": [
    "#visualizing the random tree \n",
    "feature_list = list(x.columns)\n",
    "# Import tools needed for visualization\n",
    "from IPython.display import Image\n",
    "from sklearn.tree import export_graphviz\n",
    "import pydot\n",
    "\n",
    "#pulling out one tree from the forest\n",
    "tree = rfc.estimators_[5]\n",
    "export_graphviz(tree, out_file = 'tree.dot', feature_names = feature_list, rounded = True, precision = 1)\n",
    "# Use dot file to create a graph\n",
    "(graph, ) = pydot.graph_from_dot_file('tree.dot')\n",
    "# Write graph to a png file\n",
    "display(Image(graph.create_png()))"
   ]
  },
  {
   "cell_type": "markdown",
   "metadata": {},
   "source": [
    "# CONCLUSION:-"
   ]
  },
  {
   "cell_type": "markdown",
   "metadata": {
    "ExecuteTime": {
     "end_time": "2021-01-08T08:53:23.089834Z",
     "start_time": "2021-01-08T08:53:23.049834Z"
    }
   },
   "source": [
    "The model is fast, it is definitely simple and most importantly easily interpretable as shown in the Decision Tree diagram. "
   ]
  },
  {
   "cell_type": "markdown",
   "metadata": {},
   "source": []
  }
 ],
 "metadata": {
  "kernelspec": {
   "display_name": "Python 3",
   "language": "python",
   "name": "python3"
  },
  "language_info": {
   "codemirror_mode": {
    "name": "ipython",
    "version": 3
   },
   "file_extension": ".py",
   "mimetype": "text/x-python",
   "name": "python",
   "nbconvert_exporter": "python",
   "pygments_lexer": "ipython3",
   "version": "3.8.3"
  },
  "varInspector": {
   "cols": {
    "lenName": 16,
    "lenType": 16,
    "lenVar": 40
   },
   "kernels_config": {
    "python": {
     "delete_cmd_postfix": "",
     "delete_cmd_prefix": "del ",
     "library": "var_list.py",
     "varRefreshCmd": "print(var_dic_list())"
    },
    "r": {
     "delete_cmd_postfix": ") ",
     "delete_cmd_prefix": "rm(",
     "library": "var_list.r",
     "varRefreshCmd": "cat(var_dic_list()) "
    }
   },
   "types_to_exclude": [
    "module",
    "function",
    "builtin_function_or_method",
    "instance",
    "_Feature"
   ],
   "window_display": false
  }
 },
 "nbformat": 4,
 "nbformat_minor": 4
}
